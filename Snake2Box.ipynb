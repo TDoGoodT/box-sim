{
    "cells": [
        {
            "cell_type": "markdown",
            "source": [
                "# Snake 2 Box\n",
                "Lately i stumbled upon a 3D puzzle from a shop called [GAYA](https://gaya-game.co.il/collections/games-and-puzzles/products/product-18?variant=31635902915)\n",
                "\n",
                "## The puzzle\n",
                "The puzzle is devilishly simple – a 3x3x3 array of 27 wooden blocks all tied tightly together with a hidden elastic string.\\\n",
                "Each small block is either a \"straight-through\" piece (elastic emerges on opposite faces) or a \"corner\" piece (elastic emerges on two adjacent faces.\\\n",
                "The goal is to twist the blocks so that the 27 blocks form a cube… again.\n",
                "\n",
                "![Figure 1.1 - Snake 2 Box](16603.jpeg)\n",
                "\n",
                "After trying to solve this puzzle many times, testing diffrent approaches I couldn't find any other way than simulate this issue with Python.\n",
                "\n",
                "## My Goals!\n",
                "- Plan before execution, top-down solution.\n",
                "- Get used to working with numpy and matplotlib.\n",
                "- Solve this damn puzzle.\n",
                "\n",
                "## Solution\n",
                "\n",
                "\n",
                "### Defining the problem\n",
                "\n",
                "In order to count the many variations our snake could be we need to use the 3D Field $\\mathbb{N} ^3$\\\n",
                "We will represent each block as a vector over $\\mathbb{N} ^3$.\\\n",
                "And lets set the location of the starting block to be our refrence point.\n",
                " \n",
                "$\\vec B_1= \\left( 0 , 0 , 0 \\right)$\n",
                "\n",
                "Lets define a state to be a list of n such vectors.\\\n",
                "Our main goal is finding the solution state. $\\bar S = B_1,B_2,...,B_{27}$ \\\n",
                "The solution state fills all of the points in 3x3x3.\n",
                "\n",
                "### Counting possibilities\n",
                "\n",
                "Now after we defined the problem, we can see that each block can be rotated into 4 diffrent states.\\\n",
                "That will affect the position of the blocks with higher index.\\\n",
                "Hence, we have $4^{25}$ possible states for this snicky snake.\\\n",
                "(we excluded the first and last blocks because rotating them is useless...).\n",
                "\n",
                "\n",
                "### The states tree \n",
                "\n",
                "Let $T=\\left(V,E\\right)$ be a tree with the following structure:\n",
                "- each vertex $v\\in V$ will represent a state ($v=\\left( \\bar B_1, \\bar B_2, ... \\bar B_k \\right)$) such that $dist\\left( root,v\\right) = k$.\n",
                "- each edge $e=\\left(u,v\\right)\\in E$ will represent an addition of one block (vaildly) from $u$ to $v$.\n",
                "\n",
                "Our solution will be traversing the states tree until we will find our solution.\n",
                "\n",
                "### Removing invalid possibilities from the states tree\n",
                "\n",
                "In order to optimize our solution, we will remove edges that result in a state which the added block is not in the 3x3x3 space.\n",
                "\n",
                "\n",
                "\n",
                "\n",
                "## Data structures\n",
                "\n",
                "At first, we need to encode this real life puzzle into 1's and 0's in order to be able to solve it with a computer program.\n",
                "\n",
                "\n",
                "### The Box modules\n",
                "\n",
                "The Box module will represent the puzzle state in any step of the simulation.\\\n",
                "As mentioned above, each block can be \"corner\" or \"straight\".\n",
                "\n",
                "A Box, will contain:\n",
                "- The box *body*:\\\n",
                "    A 3x3x3 matrix used to record if a cell is occupied [0 -> empty or i -> block index]\n",
                "- Done flag:\\\n",
                "    Will be true when the box is filled with a snake.\n",
                "\n",
                "The *body* in the beggining is empty.\n",
                "\n",
                "### The Snake module:\n",
                "\n",
                "A Snake, will contain:\n",
                "- A *defining array*:\\\n",
                "    such that each \"corner\" block will get 1 and \"straight\" will get 0.\n",
                "    \n",
                "In my case I have the *defining array* is:\n",
                "\n",
                "$\\left[0, 1, 1, 1, 1, 0, 1, 0, 1, 1, 1, 1, 1, 1, 1, 1, 1, 1, 1, 0, 1, 0, 1, 1, 1, 1, 0\\right]$\n",
                "\n",
                "### The OptionsDB module:\n",
                "\n",
                "The Options DB module will holds and maintains the possible options of the puzzle.\n",
                "\n",
                "A Options DB, will contain:\n",
                "- A *options list*:\\\n",
                "    list of stacks containing Options (all possible rotations) as default.\n",
                "    "
            ],
            "metadata": {}
        },
        {
            "cell_type": "code",
            "execution_count": 2,
            "source": [
                "import networkx as nx\n",
                "import matplotlib.pyplot as plt"
            ],
            "outputs": [
                {
                    "output_type": "error",
                    "ename": "ModuleNotFoundError",
                    "evalue": "No module named 'networkx'",
                    "traceback": [
                        "\u001b[0;31m---------------------------------------------------------------------------\u001b[0m",
                        "\u001b[0;31mModuleNotFoundError\u001b[0m                       Traceback (most recent call last)",
                        "\u001b[0;32m<ipython-input-2-e035b1b0382a>\u001b[0m in \u001b[0;36m<module>\u001b[0;34m\u001b[0m\n\u001b[0;32m----> 1\u001b[0;31m \u001b[0;32mimport\u001b[0m \u001b[0mnetworkx\u001b[0m \u001b[0;32mas\u001b[0m \u001b[0mnx\u001b[0m\u001b[0;34m\u001b[0m\u001b[0;34m\u001b[0m\u001b[0m\n\u001b[0m\u001b[1;32m      2\u001b[0m \u001b[0;32mimport\u001b[0m \u001b[0mmatplotlib\u001b[0m\u001b[0;34m.\u001b[0m\u001b[0mpyplot\u001b[0m \u001b[0;32mas\u001b[0m \u001b[0mplt\u001b[0m\u001b[0;34m\u001b[0m\u001b[0;34m\u001b[0m\u001b[0m\n",
                        "\u001b[0;31mModuleNotFoundError\u001b[0m: No module named 'networkx'"
                    ]
                }
            ],
            "metadata": {}
        },
        {
            "cell_type": "markdown",
            "source": [],
            "metadata": {}
        },
        {
            "cell_type": "code",
            "execution_count": 3,
            "source": [
                "import numpy as np"
            ],
            "outputs": [],
            "metadata": {}
        },
        {
            "cell_type": "code",
            "execution_count": 7,
            "source": [
                "class Box(object):\n",
                "    def __init__(self):\n",
                "        self.body = np.zeros((3,3,3),int)\n",
                "        self.done = False\n",
                "        self.max_block = np.zeros(3,int)\n",
                "        self.blocks = [self.max_block]\n",
                "\n",
                "\n",
                "class Snake(object):\n",
                "    def __init__(self,def_arr):\n",
                "        if isinstance(def_arr,list):\n",
                "            self.def_arr = def_arr\n",
                "        else:\n",
                "            raise TypeError\n",
                "\n",
                "class OptionsDB(object):\n",
                "    def __init__(self):\n",
                "        self.ops = [[0]]+[[1,2,3,4] for _ in range(25)]+[[0]]\n",
                "        self.curr_idx = 1\n",
                "    def next(self)-> tuple[int,int]:\n",
                "        num_curr_options = len(self.ops[self.curr_idx])\n",
                "        if num_curr_options == 0: # no more options\n",
                "            self.curr_idx -= 1\n",
                "            for op in self.ops[self.curr_idx:-1]:\n",
                "                op = [1,2,3,4]\n",
                "        elif num_curr_options == 1:\n",
                "            op = self.ops[self.curr_idx].pop()\n",
                "            pass\n",
                "        else:\n",
                "\n"
            ],
            "outputs": [],
            "metadata": {}
        },
        {
            "cell_type": "code",
            "execution_count": null,
            "source": [
                "class Puzzle:\n",
                "    def __init__(self,def_arr):\n",
                "        self.box = Box()\n",
                "        self.snake = Snake(def_arr)\n",
                "        self.db = OptionsDB()\n",
                "    def solve(self):\n",
                "        while True:\n",
                "            if self.db.curr_idx == 26:\n",
                "                break                \n",
                "            idx = self.db.curr_idx\n",
                "            if self.snake.def_arr[idx]: # corner \n",
                "                \n",
                "            else: #straight\n",
                "                self.db.curr_idx += 1\n",
                "                continue\n",
                "                \n",
                "        "
            ],
            "outputs": [],
            "metadata": {}
        },
        {
            "cell_type": "code",
            "execution_count": 9,
            "source": [
                "def_arr = [0, 1, 1, 1, 1, 0, 1, 0, 1, 1, 1, 1, 1, 1, 1, 1, 1, 1, 1, 0, 1, 0, 1, 1, 1, 1, 0]"
            ],
            "outputs": [],
            "metadata": {}
        },
        {
            "cell_type": "code",
            "execution_count": null,
            "source": [],
            "outputs": [],
            "metadata": {}
        },
        {
            "cell_type": "code",
            "execution_count": null,
            "source": [
                "class Box:\n",
                "    pass\n",
                "class Snake:\n",
                "    pass"
            ],
            "outputs": [],
            "metadata": {}
        },
        {
            "cell_type": "code",
            "execution_count": null,
            "source": [
                "\n",
                "x = Box(def_arr)\n",
                "body, option = x.solve()\n",
                "plot_option(body,option)"
            ],
            "outputs": [],
            "metadata": {}
        }
    ],
    "metadata": {
        "orig_nbformat": 4,
        "language_info": {
            "name": "python",
            "version": "3.9.1",
            "mimetype": "text/x-python",
            "codemirror_mode": {
                "name": "ipython",
                "version": 3
            },
            "pygments_lexer": "ipython3",
            "nbconvert_exporter": "python",
            "file_extension": ".py"
        },
        "kernelspec": {
            "name": "python3",
            "display_name": "Python 3.9.1 64-bit"
        },
        "interpreter": {
            "hash": "aee8b7b246df8f9039afb4144a1f6fd8d2ca17a180786b69acc140d282b71a49"
        }
    },
    "nbformat": 4,
    "nbformat_minor": 2
}