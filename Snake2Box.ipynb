{
    "cells": [
        {
            "cell_type": "code",
            "execution_count": 216,
            "source": [
                "from utils import *\n",
                "from scipy.spatial.transform import Rotation as R\n"
            ],
            "outputs": [],
            "metadata": {}
        },
        {
            "cell_type": "markdown",
            "source": [
                "# Snake 2 Box\n",
                "Lately i stumbled upon a 3D puzzle from a shop called [GAYA](https://gaya-game.co.il/collections/games-and-puzzles/products/product-18?variant=31635902915)\n",
                "\n",
                "## The puzzle\n",
                "The puzzle is devilishly simple – a 3x3x3 array of 27 wooden blocks all tied tightly together with a hidden elastic string.\\\n",
                "Each small block is either a \"straight-through\" piece (elastic emerges on opposite faces) or a \"corner\" piece (elastic emerges on two adjacent faces).\\\n",
                "The goal is to twist the blocks so that the 27 blocks form a cube… again.\n",
                "\n",
                "![Figure 1.1 - Snake 2 Box](16603.jpeg)\n",
                "\n",
                "After trying to solve this puzzle many times, testing diffrent approaches I couldn't find any other way than simulate this issue with Python.\n",
                "\n",
                "## My Goals!\n",
                "- Plan before execution, top-down solution.\n",
                "- Get used to working with numpy and matplotlib.\n",
                "- Solve this damn puzzle.\n",
                "\n",
                "## Solution\n",
                "\n",
                "\n",
                "### Defining the problem\n",
                "\n",
                "In order to count the many variations our snake could be we need to use the 3D Field $\\mathbb{N} ^3$\\\n",
                "We will represent each block as a vector over $\\mathbb{N} ^3$.\\\n",
                "And lets set the location of the starting block to be our refrence point.\n",
                " \n",
                "$\\vec B_1= \\left( 0 , 0 , 0 \\right)$\n",
                "\n",
                "Lets define a state to be a list of n such vectors.\\\n",
                "Our main goal is finding the solution state. $\\bar S = B_1,B_2,...,B_{27}$ \\\n",
                "The solution state fills all of the points in 3x3x3.\n",
                "\n",
                "### Counting possibilities\n",
                "\n",
                "Now after we defined the problem, we can see that each block can be rotated into 4 diffrent states.\\\n",
                "That will affect the position of the blocks with higher index.\\\n",
                "Hence, we have $4^{25}$ possible states for this snicky snake.\\\n",
                "(we excluded the first and last blocks because rotating them is useless...).\n",
                "\n",
                "\n",
                "### The states tree \n",
                "\n",
                "Let $T=\\left(V,E\\right)$ be a tree with the following structure:\n",
                "- each vertex $v\\in V$ will represent a state ($v=\\left( \\bar B_1, \\bar B_2, ... \\bar B_k \\right)$) such that $dist\\left( root,v\\right) = k$.\n",
                "- each edge $e=\\left(u,v\\right)\\in E$ will represent an addition of one block (vaildly) from $u$ to $v$.\n",
                "\n",
                "Our solution will be traversing the states tree until we will find our solution.\n",
                "\n",
                "\n",
                "### Removing invalid possibilities from the states tree\n",
                "\n",
                "In order to optimize our solution, on each depth step we will check if the addition is valid and remove the edge if not (hence, the snake is not only in the 3x3x3 box).\n",
                "\n",
                "\n",
                "\n",
                "\n",
                "Lets visualize the states tree.\n"
            ],
            "metadata": {}
        },
        {
            "cell_type": "code",
            "execution_count": 217,
            "source": [
                "plt.rcParams['figure.figsize'] = [15, 10]\n",
                "\n",
                "G = get_full_states_tree(3)#as 27 is to much to visualize \n",
                "\n",
                "G.visualize()"
            ],
            "outputs": [
                {
                    "output_type": "display_data",
                    "data": {
                        "text/plain": [
                            "<Figure size 1080x720 with 1 Axes>"
                        ],
                        "image/svg+xml": "<?xml version=\"1.0\" encoding=\"utf-8\" standalone=\"no\"?>\n<!DOCTYPE svg PUBLIC \"-//W3C//DTD SVG 1.1//EN\"\n  \"http://www.w3.org/Graphics/SVG/1.1/DTD/svg11.dtd\">\n<svg height=\"558pt\" version=\"1.1\" viewBox=\"0 0 851.4 558\" width=\"851.4pt\" xmlns=\"http://www.w3.org/2000/svg\" xmlns:xlink=\"http://www.w3.org/1999/xlink\">\n <metadata>\n  <rdf:RDF xmlns:cc=\"http://creativecommons.org/ns#\" xmlns:dc=\"http://purl.org/dc/elements/1.1/\" xmlns:rdf=\"http://www.w3.org/1999/02/22-rdf-syntax-ns#\">\n   <cc:Work>\n    <dc:type rdf:resource=\"http://purl.org/dc/dcmitype/StillImage\"/>\n    <dc:date>2021-09-03T16:59:32.648503</dc:date>\n    <dc:format>image/svg+xml</dc:format>\n    <dc:creator>\n     <cc:Agent>\n      <dc:title>Matplotlib v3.4.0, https://matplotlib.org/</dc:title>\n     </cc:Agent>\n    </dc:creator>\n   </cc:Work>\n  </rdf:RDF>\n </metadata>\n <defs>\n  <style type=\"text/css\">*{stroke-linecap:butt;stroke-linejoin:round;}</style>\n </defs>\n <g id=\"figure_1\">\n  <g id=\"patch_1\">\n   <path d=\"M 0 558 \nL 851.4 558 \nL 851.4 0 \nL 0 0 \nz\n\" style=\"fill:none;\"/>\n  </g>\n  <g id=\"axes_1\">\n   <g id=\"patch_2\">\n    <path d=\"M 7.2 550.8 \nL 844.2 550.8 \nL 844.2 7.2 \nL 7.2 7.2 \nz\n\" style=\"fill:#ffffff;\"/>\n   </g>\n   <g id=\"LineCollection_1\">\n    <path clip-path=\"url(#pffb75af20c)\" d=\"M 425.705301 278.996433 \nL 502.221735 162.673851 \n\" style=\"fill:none;stroke:#000000;\"/>\n    <path clip-path=\"url(#pffb75af20c)\" d=\"M 425.705301 278.996433 \nL 246.596913 229.304181 \n\" style=\"fill:none;stroke:#000000;\"/>\n    <path clip-path=\"url(#pffb75af20c)\" d=\"M 425.705301 278.996433 \nL 349.193232 395.320005 \n\" style=\"fill:none;stroke:#000000;\"/>\n    <path clip-path=\"url(#pffb75af20c)\" d=\"M 425.705301 278.996433 \nL 604.811794 328.690511 \n\" style=\"fill:none;stroke:#000000;\"/>\n    <path clip-path=\"url(#pffb75af20c)\" d=\"M 502.221735 162.673851 \nL 573.474212 54.371901 \n\" style=\"fill:none;stroke:#000000;\"/>\n    <path clip-path=\"url(#pffb75af20c)\" d=\"M 246.596913 229.304181 \nL 79.832231 183.040427 \n\" style=\"fill:none;stroke:#000000;\"/>\n    <path clip-path=\"url(#pffb75af20c)\" d=\"M 349.193232 395.320005 \nL 277.963055 503.628099 \n\" style=\"fill:none;stroke:#000000;\"/>\n    <path clip-path=\"url(#pffb75af20c)\" d=\"M 604.811794 328.690511 \nL 771.567769 374.967565 \n\" style=\"fill:none;stroke:#000000;\"/>\n   </g>\n   <g id=\"matplotlib.axis_1\">\n    <g id=\"xtick_1\"/>\n    <g id=\"xtick_2\"/>\n    <g id=\"xtick_3\"/>\n    <g id=\"xtick_4\"/>\n    <g id=\"xtick_5\"/>\n   </g>\n   <g id=\"matplotlib.axis_2\">\n    <g id=\"ytick_1\"/>\n    <g id=\"ytick_2\"/>\n    <g id=\"ytick_3\"/>\n    <g id=\"ytick_4\"/>\n    <g id=\"ytick_5\"/>\n   </g>\n   <g id=\"PathCollection_1\">\n    <defs>\n     <path d=\"M 0 1.581139 \nC 0.419323 1.581139 0.821528 1.41454 1.118034 1.118034 \nC 1.41454 0.821528 1.581139 0.419323 1.581139 0 \nC 1.581139 -0.419323 1.41454 -0.821528 1.118034 -1.118034 \nC 0.821528 -1.41454 0.419323 -1.581139 0 -1.581139 \nC -0.419323 -1.581139 -0.821528 -1.41454 -1.118034 -1.118034 \nC -1.41454 -0.821528 -1.581139 -0.419323 -1.581139 0 \nC -1.581139 0.419323 -1.41454 0.821528 -1.118034 1.118034 \nC -0.821528 1.41454 -0.419323 1.581139 0 1.581139 \nz\n\" id=\"ma9b9bb4202\" style=\"stroke:#1f78b4;\"/>\n    </defs>\n    <g clip-path=\"url(#pffb75af20c)\">\n     <use style=\"fill:#1f78b4;stroke:#1f78b4;\" x=\"425.705301\" xlink:href=\"#ma9b9bb4202\" y=\"278.996433\"/>\n     <use style=\"fill:#1f78b4;stroke:#1f78b4;\" x=\"502.221735\" xlink:href=\"#ma9b9bb4202\" y=\"162.673851\"/>\n     <use style=\"fill:#1f78b4;stroke:#1f78b4;\" x=\"246.596913\" xlink:href=\"#ma9b9bb4202\" y=\"229.304181\"/>\n     <use style=\"fill:#1f78b4;stroke:#1f78b4;\" x=\"349.193232\" xlink:href=\"#ma9b9bb4202\" y=\"395.320005\"/>\n     <use style=\"fill:#1f78b4;stroke:#1f78b4;\" x=\"604.811794\" xlink:href=\"#ma9b9bb4202\" y=\"328.690511\"/>\n     <use style=\"fill:#1f78b4;stroke:#1f78b4;\" x=\"573.474212\" xlink:href=\"#ma9b9bb4202\" y=\"54.371901\"/>\n     <use style=\"fill:#1f78b4;stroke:#1f78b4;\" x=\"79.832231\" xlink:href=\"#ma9b9bb4202\" y=\"183.040427\"/>\n     <use style=\"fill:#1f78b4;stroke:#1f78b4;\" x=\"277.963055\" xlink:href=\"#ma9b9bb4202\" y=\"503.628099\"/>\n     <use style=\"fill:#1f78b4;stroke:#1f78b4;\" x=\"771.567769\" xlink:href=\"#ma9b9bb4202\" y=\"374.967565\"/>\n    </g>\n   </g>\n   <g id=\"patch_3\">\n    <path d=\"M 7.2 550.8 \nL 7.2 7.2 \n\" style=\"fill:none;stroke:#000000;stroke-linecap:square;stroke-linejoin:miter;stroke-width:0.8;\"/>\n   </g>\n   <g id=\"patch_4\">\n    <path d=\"M 844.2 550.8 \nL 844.2 7.2 \n\" style=\"fill:none;stroke:#000000;stroke-linecap:square;stroke-linejoin:miter;stroke-width:0.8;\"/>\n   </g>\n   <g id=\"patch_5\">\n    <path d=\"M 7.2 550.8 \nL 844.2 550.8 \n\" style=\"fill:none;stroke:#000000;stroke-linecap:square;stroke-linejoin:miter;stroke-width:0.8;\"/>\n   </g>\n   <g id=\"patch_6\">\n    <path d=\"M 7.2 7.2 \nL 844.2 7.2 \n\" style=\"fill:none;stroke:#000000;stroke-linecap:square;stroke-linejoin:miter;stroke-width:0.8;\"/>\n   </g>\n  </g>\n </g>\n <defs>\n  <clipPath id=\"pffb75af20c\">\n   <rect height=\"543.6\" width=\"837\" x=\"7.2\" y=\"7.2\"/>\n  </clipPath>\n </defs>\n</svg>\n",
                        "image/png": "[encoded data removed]"
                    },
                    "metadata": {}
                }
            ],
            "metadata": {}
        },
        {
            "cell_type": "markdown",
            "source": [
                "\n",
                "\n",
                "## Data structures\n",
                "\n",
                "At first, we need to encode this real life puzzle into 1's and 0's.\n",
                "\n",
                "\n",
                "### The Box modules\n",
                "\n",
                "The Box module will represent the puzzle state in any step of the simulation.\\\n",
                "As mentioned above, each block can be \"corner\" or \"straight\".\n",
                "\n",
                "A Box, will contain:\n",
                "- The box *body*:\\\n",
                "    A 3x3x3 matrix used to record if a cell is occupied [0 -> empty or i -> block index]\n",
                "\n",
                "The *body* in the beggining is empty.\n"
            ],
            "metadata": {}
        },
        {
            "cell_type": "code",
            "execution_count": 218,
            "source": [
                "class Box(object):\n",
                "    def __init__(self):\n",
                "        self.body = np.zeros((3,3,3),int)\n",
                "    def validate_snake(self, snake) -> bool:\n",
                "        for idx, state in enumerate(snake.state,start=1):\n",
                "            if self.body[state[0]][state[1]][state[2]]:\n",
                "                self.body = np.zeros((3,3,3),int)\n",
                "                print(f\"state {snake.state} is not valid.\")\n",
                "                print(f\"found error in state {state}.\")\n",
                "                print(f\"{self.body[state[0]][state[1]][state[2]]}\")\n",
                "                return False\n",
                "            elif any([(x < 0 or x > 2) for x in state]):\n",
                "                self.body = np.zeros((3,3,3),int)\n",
                "                print(f\"state {snake.state} is not valid.\")\n",
                "                print(f\"found error in state {state}.\")\n",
                "                print(any([(x < 0 or x > 2) for x in state]))\n",
                "                print([(x < 0 or x > 2) for x in state])\n",
                "                return False\n",
                "            else:\n",
                "                self.body[state[0]][state[1]][state[2]] = idx\n",
                "        return True\n",
                "            \n",
                "            \n"
            ],
            "outputs": [],
            "metadata": {}
        },
        {
            "cell_type": "markdown",
            "source": [
                "\n",
                "### The Snake module:\n",
                "\n",
                "A Snake, will contain:\n",
                "- A *defining array*:\\\n",
                "    such that each \"corner\" block will get 1 and \"straight\" will get 0.\n",
                "    \n",
                "In my case I have the *defining array* is:\n",
                "\n",
                "$\\left[0, 1, 1, 1, 1, 0, 1, 0, 1, 1, 1, 1, 1, 1, 1, 1, 1, 1, 1, 0, 1, 0, 1, 1, 1, 1, 0\\right]$\n",
                "\n",
                "## decoding option to states array\n",
                "\n"
            ],
            "metadata": {}
        },
        {
            "cell_type": "code",
            "execution_count": 219,
            "source": [
                "B = {\n",
                "\"x\": np.array([1, 0, 0], int),\n",
                "\"y\": np.array([0, 1, 0], int),\n",
                "\"z\": np.array([0, 0, 1], int),\n",
                "}\n",
                "\n",
                "rots = {\n",
                "\"0\": 0,\n",
                "\"1\": 90,\n",
                "\"2\": 180,\n",
                "\"3\": 270\n",
                "}\n",
                "class Snake(object):\n",
                "    def __init__(self,def_arr, option='00'):\n",
                "        self.def_arr = def_arr\n",
                "        self.option = option\n",
                "        self.dir = B[\"x\"]\n",
                "        self.state = []\n",
                "        self.state, _ = self.calc_states(option)\n",
                "\n",
                "\n",
                "    def get_perpendicular_dir(self,dir):\n",
                "        if abs(np.dot(dir, B[\"x\"])) == 1:\n",
                "            v = B[\"y\"]\n",
                "        elif abs(np.dot(dir, B[\"y\"])) == 1:\n",
                "            v = B[\"z\"]\n",
                "        elif abs(np.dot(dir, B[\"z\"])) == 1:\n",
                "            v = B[\"x\"]\n",
                "        return v\n",
                "\n",
                "    def _get_next_dir(self, v, rotation):\n",
                "        rotation_radians = np.radians(rotation)\n",
                "        rotation_vector = rotation_radians * self.dir\n",
                "        rotation = R.from_rotvec(rotation_vector)\n",
                "        return np.array([round(x) for x in (rotation.apply(v))])\n",
                "\n",
                "    def build_next_option(self, option):\n",
                "        x = def_arr[len(self.state)]\n",
                "        if x == 0:\n",
                "            self.state.append(self.state[-1] + self.dir)\n",
                "        elif x == 1:\n",
                "            v = self.get_perpendicular_dir(self.dir)\n",
                "            self.dir = self._get_next_dir(v, rots[option])\n",
                "            self.state.append(self.state[-1] + self.dir)\n",
                "\n",
                "    def calc_states(self,options:str) -> list:\n",
                "        self.state = [np.array([0,0,0])]\n",
                "        for op in options[1:]:\n",
                "            self.build_next_option(op)\n",
                "        return self.state.copy(), self.dir\n",
                "    "
            ],
            "outputs": [],
            "metadata": {}
        },
        {
            "cell_type": "markdown",
            "source": [
                "\n",
                "### The OptionsTree module:\n",
                "\n",
                "The Options Tree module will holds and maintains the possible options of the puzzle.\n",
                "\n",
                "A Options Tree, will contain:\n",
                "- A *options tree*:\\\n",
                "    The tree of possible states we are traversing. \\\n",
                "    The Options will be calculated dynamically.\n",
                "    "
            ],
            "metadata": {}
        },
        {
            "cell_type": "code",
            "execution_count": 220,
            "source": [
                "class OptionsTree(object):\n",
                "    def __init__(self):\n",
                "        self.options = {'0':'00'}\n",
                "    def addEdge(self, a, b):\n",
                "        self.options[a] = b\n",
                "    #TODO: add removeEdge method\n",
                "    "
            ],
            "outputs": [],
            "metadata": {}
        },
        {
            "cell_type": "code",
            "execution_count": 221,
            "source": [
                "class Puzzle:\n",
                "    def __init__(self,def_arr):\n",
                "        self.box = Box()\n",
                "        self.snake = Snake(def_arr)\n",
                "        self.tree = OptionsTree()\n",
                "    def explore_dfs(self):\n",
                "        visited = set()\n",
                "        Q = [0,1,2,3] \n",
                "        op = '00'\n",
                "        while True:\n",
                "            try:\n",
                "                next_option = op + str(Q.pop(0))\n",
                "                print(f\"trying to go from {op!r} to {next_option!r}\")\n",
                "\n",
                "\n",
                "                if not next_option in visited: \n",
                "                    visited.add(next_option)\n",
                "                    self.snake.build_next_option(next_option[-1])\n",
                "                    if self.box.validate_snake(self.snake):\n",
                "                        self.tree.addEdge(op,next_option)\n",
                "                        op = next_option\n",
                "                        if len(op) == 5:\n",
                "                            break\n",
                "                        Q = [0, 1, 2, 3]\n",
                "                    else:\n",
                "                        self.snake.state.pop(-1)\n",
                "            except IndexError:\n",
                "                self.snake.state.pop(-1)\n",
                "                op = op[:-1]\n",
                "\n",
                "                "
            ],
            "outputs": [],
            "metadata": {}
        },
        {
            "cell_type": "code",
            "execution_count": 222,
            "source": [
                "def_arr = [0, 1, 1, 1, 1, 0, 1, 0, 1, 1, 1, 1, 1, 1, 1, 1, 1, 1, 1, 0, 1, 0, 1, 1, 1, 1, 0]\n",
                "puz = Puzzle(def_arr)\n",
                "puz.explore_dfs()"
            ],
            "outputs": [
                {
                    "output_type": "stream",
                    "name": "stdout",
                    "text": [
                        "trying to go from '00' to '000'\n",
                        "trying to go from '000' to '0000'\n",
                        "state [array([0, 0, 0]), array([0, 1, 0]), array([0, 1, 1]), array([1, 1, 1])] is not valid.\n",
                        "found error in state [0 0 0].\n",
                        "False\n",
                        "0\n",
                        "trying to go from '000' to '0001'\n",
                        "trying to go from '0001' to '00010'\n",
                        "state [array([0, 0, 0]), array([0, 1, 0]), array([0, 1, 1]), array([0, 1, 2]), array([1, 1, 2])] is not valid.\n",
                        "found error in state [0 0 0].\n",
                        "False\n",
                        "0\n",
                        "trying to go from '0001' to '00011'\n",
                        "trying to go from '000' to '0002'\n",
                        "state [array([0, 0, 0]), array([0, 1, 0]), array([0, 1, 1]), array([0, 1, 2]), array([-1,  1,  2])] is not valid.\n",
                        "found error in state [0 0 0].\n",
                        "False\n",
                        "0\n",
                        "trying to go from '000' to '0003'\n"
                    ]
                },
                {
                    "output_type": "error",
                    "ename": "IndexError",
                    "evalue": "pop from empty list",
                    "traceback": [
                        "\u001b[0;31m---------------------------------------------------------------------------\u001b[0m",
                        "\u001b[0;31mIndexError\u001b[0m                                Traceback (most recent call last)",
                        "\u001b[0;32m<ipython-input-221-28b53248da2e>\u001b[0m in \u001b[0;36mexplore_dfs\u001b[0;34m(self)\u001b[0m\n\u001b[1;32m     11\u001b[0m             \u001b[0;32mtry\u001b[0m\u001b[0;34m:\u001b[0m\u001b[0;34m\u001b[0m\u001b[0;34m\u001b[0m\u001b[0m\n\u001b[0;32m---> 12\u001b[0;31m                 \u001b[0mnext_option\u001b[0m \u001b[0;34m=\u001b[0m \u001b[0mop\u001b[0m \u001b[0;34m+\u001b[0m \u001b[0mstr\u001b[0m\u001b[0;34m(\u001b[0m\u001b[0mQ\u001b[0m\u001b[0;34m.\u001b[0m\u001b[0mpop\u001b[0m\u001b[0;34m(\u001b[0m\u001b[0;36m0\u001b[0m\u001b[0;34m)\u001b[0m\u001b[0;34m)\u001b[0m\u001b[0;34m\u001b[0m\u001b[0;34m\u001b[0m\u001b[0m\n\u001b[0m\u001b[1;32m     13\u001b[0m                 \u001b[0mprint\u001b[0m\u001b[0;34m(\u001b[0m\u001b[0;34mf\"trying to go from {op!r} to {next_option!r}\"\u001b[0m\u001b[0;34m)\u001b[0m\u001b[0;34m\u001b[0m\u001b[0;34m\u001b[0m\u001b[0m\n",
                        "\u001b[0;31mIndexError\u001b[0m: pop from empty list",
                        "\nDuring handling of the above exception, another exception occurred:\n",
                        "\u001b[0;31mIndexError\u001b[0m                                Traceback (most recent call last)",
                        "\u001b[0;32m<ipython-input-222-6cae2affd178>\u001b[0m in \u001b[0;36m<module>\u001b[0;34m\u001b[0m\n\u001b[1;32m      1\u001b[0m \u001b[0mdef_arr\u001b[0m \u001b[0;34m=\u001b[0m \u001b[0;34m[\u001b[0m\u001b[0;36m0\u001b[0m\u001b[0;34m,\u001b[0m \u001b[0;36m1\u001b[0m\u001b[0;34m,\u001b[0m \u001b[0;36m1\u001b[0m\u001b[0;34m,\u001b[0m \u001b[0;36m1\u001b[0m\u001b[0;34m,\u001b[0m \u001b[0;36m1\u001b[0m\u001b[0;34m,\u001b[0m \u001b[0;36m0\u001b[0m\u001b[0;34m,\u001b[0m \u001b[0;36m1\u001b[0m\u001b[0;34m,\u001b[0m \u001b[0;36m0\u001b[0m\u001b[0;34m,\u001b[0m \u001b[0;36m1\u001b[0m\u001b[0;34m,\u001b[0m \u001b[0;36m1\u001b[0m\u001b[0;34m,\u001b[0m \u001b[0;36m1\u001b[0m\u001b[0;34m,\u001b[0m \u001b[0;36m1\u001b[0m\u001b[0;34m,\u001b[0m \u001b[0;36m1\u001b[0m\u001b[0;34m,\u001b[0m \u001b[0;36m1\u001b[0m\u001b[0;34m,\u001b[0m \u001b[0;36m1\u001b[0m\u001b[0;34m,\u001b[0m \u001b[0;36m1\u001b[0m\u001b[0;34m,\u001b[0m \u001b[0;36m1\u001b[0m\u001b[0;34m,\u001b[0m \u001b[0;36m1\u001b[0m\u001b[0;34m,\u001b[0m \u001b[0;36m1\u001b[0m\u001b[0;34m,\u001b[0m \u001b[0;36m0\u001b[0m\u001b[0;34m,\u001b[0m \u001b[0;36m1\u001b[0m\u001b[0;34m,\u001b[0m \u001b[0;36m0\u001b[0m\u001b[0;34m,\u001b[0m \u001b[0;36m1\u001b[0m\u001b[0;34m,\u001b[0m \u001b[0;36m1\u001b[0m\u001b[0;34m,\u001b[0m \u001b[0;36m1\u001b[0m\u001b[0;34m,\u001b[0m \u001b[0;36m1\u001b[0m\u001b[0;34m,\u001b[0m \u001b[0;36m0\u001b[0m\u001b[0;34m]\u001b[0m\u001b[0;34m\u001b[0m\u001b[0;34m\u001b[0m\u001b[0m\n\u001b[1;32m      2\u001b[0m \u001b[0mpuz\u001b[0m \u001b[0;34m=\u001b[0m \u001b[0mPuzzle\u001b[0m\u001b[0;34m(\u001b[0m\u001b[0mdef_arr\u001b[0m\u001b[0;34m)\u001b[0m\u001b[0;34m\u001b[0m\u001b[0;34m\u001b[0m\u001b[0m\n\u001b[0;32m----> 3\u001b[0;31m \u001b[0mpuz\u001b[0m\u001b[0;34m.\u001b[0m\u001b[0mexplore_dfs\u001b[0m\u001b[0;34m(\u001b[0m\u001b[0;34m)\u001b[0m\u001b[0;34m\u001b[0m\u001b[0;34m\u001b[0m\u001b[0m\n\u001b[0m",
                        "\u001b[0;32m<ipython-input-221-28b53248da2e>\u001b[0m in \u001b[0;36mexplore_dfs\u001b[0;34m(self)\u001b[0m\n\u001b[1;32m     26\u001b[0m                         \u001b[0mself\u001b[0m\u001b[0;34m.\u001b[0m\u001b[0msnake\u001b[0m\u001b[0;34m.\u001b[0m\u001b[0mstate\u001b[0m\u001b[0;34m.\u001b[0m\u001b[0mpop\u001b[0m\u001b[0;34m(\u001b[0m\u001b[0;34m-\u001b[0m\u001b[0;36m1\u001b[0m\u001b[0;34m)\u001b[0m\u001b[0;34m\u001b[0m\u001b[0;34m\u001b[0m\u001b[0m\n\u001b[1;32m     27\u001b[0m             \u001b[0;32mexcept\u001b[0m \u001b[0mIndexError\u001b[0m\u001b[0;34m:\u001b[0m\u001b[0;34m\u001b[0m\u001b[0;34m\u001b[0m\u001b[0m\n\u001b[0;32m---> 28\u001b[0;31m                 \u001b[0mself\u001b[0m\u001b[0;34m.\u001b[0m\u001b[0msnake\u001b[0m\u001b[0;34m.\u001b[0m\u001b[0mstate\u001b[0m\u001b[0;34m.\u001b[0m\u001b[0mpop\u001b[0m\u001b[0;34m(\u001b[0m\u001b[0;34m-\u001b[0m\u001b[0;36m1\u001b[0m\u001b[0;34m)\u001b[0m\u001b[0;34m\u001b[0m\u001b[0;34m\u001b[0m\u001b[0m\n\u001b[0m\u001b[1;32m     29\u001b[0m                 \u001b[0mop\u001b[0m \u001b[0;34m=\u001b[0m \u001b[0mop\u001b[0m\u001b[0;34m[\u001b[0m\u001b[0;34m:\u001b[0m\u001b[0;34m-\u001b[0m\u001b[0;36m1\u001b[0m\u001b[0;34m]\u001b[0m\u001b[0;34m\u001b[0m\u001b[0;34m\u001b[0m\u001b[0m\n\u001b[1;32m     30\u001b[0m \u001b[0;34m\u001b[0m\u001b[0m\n",
                        "\u001b[0;31mIndexError\u001b[0m: pop from empty list"
                    ]
                }
            ],
            "metadata": {}
        }
    ],
    "metadata": {
        "orig_nbformat": 4,
        "language_info": {
            "name": "python",
            "version": "3.9.1",
            "mimetype": "text/x-python",
            "codemirror_mode": {
                "name": "ipython",
                "version": 3
            },
            "pygments_lexer": "ipython3",
            "nbconvert_exporter": "python",
            "file_extension": ".py"
        },
        "kernelspec": {
            "name": "python3",
            "display_name": "Python 3.9.1 64-bit"
        },
        "interpreter": {
            "hash": "aee8b7b246df8f9039afb4144a1f6fd8d2ca17a180786b69acc140d282b71a49"
        }
    },
    "nbformat": 4,
    "nbformat_minor": 2
}